{
 "cells": [
  {
   "cell_type": "code",
   "execution_count": 2,
   "metadata": {},
   "outputs": [],
   "source": [
    "import json\n",
    "import pandas as pd\n",
    "import matplotlib.pyplot as plt\n",
    "import numpy as np"
   ]
  },
  {
   "cell_type": "code",
   "execution_count": 3,
   "metadata": {},
   "outputs": [],
   "source": [
    "json_file = open('school_bonds_full.json', 'r', encoding = 'utf-8')\n",
    "bonds_descriptions = json.load(json_file)\n",
    "json_file.close()"
   ]
  },
  {
   "cell_type": "code",
   "execution_count": 4,
   "metadata": {},
   "outputs": [
    {
     "data": {
      "text/plain": [
       "list"
      ]
     },
     "execution_count": 4,
     "metadata": {},
     "output_type": "execute_result"
    }
   ],
   "source": [
    "type(bonds_descriptions)"
   ]
  },
  {
   "cell_type": "code",
   "execution_count": 8,
   "metadata": {},
   "outputs": [],
   "source": [
    "one_dist = one_bond['district']"
   ]
  },
  {
   "cell_type": "code",
   "execution_count": 9,
   "metadata": {},
   "outputs": [
    {
     "data": {
      "text/plain": [
       "{'id': 7695,\n",
       " 'nces_number': '4900390',\n",
       " 'district_number': '13',\n",
       " 'name': 'Iron District',\n",
       " 'address': '2077 W Royal Hunte Drive',\n",
       " 'city': 'Cedar City',\n",
       " 'state': 'UT',\n",
       " 'zip': '84720',\n",
       " 'phone': '(435)586-2804',\n",
       " 'number_students': 9078,\n",
       " 'number_teachers': 0,\n",
       " 'number_schools': 17,\n",
       " 'known_as': None,\n",
       " 'lat': '37.658920',\n",
       " 'long': '-113.087661',\n",
       " 'website': 'https://irondistrict.org',\n",
       " 'county_id': 2787,\n",
       " 'county': {'id': 2787, 'name': 'Iron County'},\n",
       " 'contacts': [{'name': 'Shannon Dulaney',\n",
       "   'phone': '435-586-2804',\n",
       "   'email': 'shannon.dulaney@ironmail.org',\n",
       "   'notes': 'Shannon Dulaney is retiring effective July 1, 2021. Lance Hatch will be the new superintendent.',\n",
       "   'notes_admin': 'Reminder set on Carbon County where Hatch is current supt.',\n",
       "   'positions': [{'name': 'Superintendent',\n",
       "     'contacts_positions': {'contact_id': 507,\n",
       "      'position_id': 1,\n",
       "      'position_sort': 1}}],\n",
       "   'districts_contacts': {'district_id': 7695,\n",
       "    'contact_id': 507,\n",
       "    'contact_sort': 1}},\n",
       "  {'name': 'Todd Hess',\n",
       "   'phone': '435-586-2804',\n",
       "   'email': 'todd.hess@ironmail.org',\n",
       "   'notes': None,\n",
       "   'notes_admin': None,\n",
       "   'positions': [{'name': 'Chief Financial Officer',\n",
       "     'contacts_positions': {'contact_id': 7654,\n",
       "      'position_id': 149,\n",
       "      'position_sort': 1}},\n",
       "    {'name': 'Business Administrator',\n",
       "     'contacts_positions': {'contact_id': 7654,\n",
       "      'position_id': 123,\n",
       "      'position_sort': 2}}],\n",
       "   'districts_contacts': {'district_id': 7695,\n",
       "    'contact_id': 7654,\n",
       "    'contact_sort': 2}}]}"
      ]
     },
     "execution_count": 9,
     "metadata": {},
     "output_type": "execute_result"
    }
   ],
   "source": [
    "one_dist"
   ]
  },
  {
   "cell_type": "code",
   "execution_count": 10,
   "metadata": {},
   "outputs": [
    {
     "data": {
      "text/plain": [
       "NoneType"
      ]
     },
     "execution_count": 10,
     "metadata": {},
     "output_type": "execute_result"
    }
   ],
   "source": [
    "type(bonds_descriptions[2])"
   ]
  },
  {
   "cell_type": "code",
   "execution_count": 11,
   "metadata": {},
   "outputs": [
    {
     "ename": "TypeError",
     "evalue": "list indices must be integers or slices, not dict",
     "output_type": "error",
     "traceback": [
      "\u001b[1;31m---------------------------------------------------------------------------\u001b[0m",
      "\u001b[1;31mTypeError\u001b[0m                                 Traceback (most recent call last)",
      "\u001b[1;32m<ipython-input-11-0adc4d56eef9>\u001b[0m in \u001b[0;36m<module>\u001b[1;34m\u001b[0m\n\u001b[0;32m      1\u001b[0m \u001b[1;32mfor\u001b[0m \u001b[0mi\u001b[0m \u001b[1;32min\u001b[0m \u001b[0mbonds_descriptions\u001b[0m\u001b[1;33m:\u001b[0m\u001b[1;33m\u001b[0m\u001b[1;33m\u001b[0m\u001b[0m\n\u001b[1;32m----> 2\u001b[1;33m     \u001b[1;32mif\u001b[0m \u001b[0mtype\u001b[0m\u001b[1;33m(\u001b[0m\u001b[0mbonds_descriptions\u001b[0m\u001b[1;33m[\u001b[0m\u001b[0mi\u001b[0m\u001b[1;33m]\u001b[0m\u001b[1;33m)\u001b[0m \u001b[1;33m==\u001b[0m \u001b[0mNoneType\u001b[0m\u001b[1;33m:\u001b[0m\u001b[1;33m\u001b[0m\u001b[1;33m\u001b[0m\u001b[0m\n\u001b[0m\u001b[0;32m      3\u001b[0m         \u001b[0mbond_descriptions\u001b[0m \u001b[1;33m=\u001b[0m \u001b[0mbond_descriptions\u001b[0m\u001b[1;33m.\u001b[0m\u001b[0mremove\u001b[0m\u001b[1;33m(\u001b[0m\u001b[0mbonds_descriptions\u001b[0m\u001b[1;33m[\u001b[0m\u001b[0mi\u001b[0m\u001b[1;33m]\u001b[0m\u001b[1;33m)\u001b[0m\u001b[1;33m\u001b[0m\u001b[1;33m\u001b[0m\u001b[0m\n",
      "\u001b[1;31mTypeError\u001b[0m: list indices must be integers or slices, not dict"
     ]
    }
   ],
   "source": [
    "for i in bonds_descriptions:\n",
    "    if type(bonds_descriptions[i]) == NoneType:\n",
    "        bond_descriptions = bond_descriptions.remove(bonds_descriptions[i])"
   ]
  },
  {
   "cell_type": "code",
   "execution_count": 14,
   "metadata": {},
   "outputs": [
    {
     "data": {
      "text/plain": [
       "list"
      ]
     },
     "execution_count": 14,
     "metadata": {},
     "output_type": "execute_result"
    }
   ],
   "source": [
    "type(bonds_descriptions)"
   ]
  },
  {
   "cell_type": "code",
   "execution_count": 15,
   "metadata": {},
   "outputs": [],
   "source": [
    "bond_desc = list(filter(None, bonds_descriptions))"
   ]
  },
  {
   "cell_type": "code",
   "execution_count": 16,
   "metadata": {},
   "outputs": [
    {
     "data": {
      "text/plain": [
       "2133"
      ]
     },
     "execution_count": 16,
     "metadata": {},
     "output_type": "execute_result"
    }
   ],
   "source": [
    "len(bond_desc)"
   ]
  },
  {
   "cell_type": "code",
   "execution_count": 24,
   "metadata": {},
   "outputs": [],
   "source": [
    "bonds_df = pd.DataFrame(bond_desc)"
   ]
  },
  {
   "cell_type": "code",
   "execution_count": 25,
   "metadata": {},
   "outputs": [
    {
     "data": {
      "text/html": [
       "<div>\n",
       "<style scoped>\n",
       "    .dataframe tbody tr th:only-of-type {\n",
       "        vertical-align: middle;\n",
       "    }\n",
       "\n",
       "    .dataframe tbody tr th {\n",
       "        vertical-align: top;\n",
       "    }\n",
       "\n",
       "    .dataframe thead th {\n",
       "        text-align: right;\n",
       "    }\n",
       "</style>\n",
       "<table border=\"1\" class=\"dataframe\">\n",
       "  <thead>\n",
       "    <tr style=\"text-align: right;\">\n",
       "      <th></th>\n",
       "      <th>id</th>\n",
       "      <th>district_id</th>\n",
       "      <th>user_id</th>\n",
       "      <th>bond_identifier</th>\n",
       "      <th>vote_date</th>\n",
       "      <th>amount</th>\n",
       "      <th>bond_use</th>\n",
       "      <th>more_info</th>\n",
       "      <th>admin_notes</th>\n",
       "      <th>status</th>\n",
       "      <th>...</th>\n",
       "      <th>reminder</th>\n",
       "      <th>modified</th>\n",
       "      <th>no_update</th>\n",
       "      <th>user_submission</th>\n",
       "      <th>notes</th>\n",
       "      <th>maturity_year</th>\n",
       "      <th>verification</th>\n",
       "      <th>district</th>\n",
       "      <th>categories</th>\n",
       "      <th>parent_categories</th>\n",
       "    </tr>\n",
       "  </thead>\n",
       "  <tbody>\n",
       "    <tr>\n",
       "      <th>0</th>\n",
       "      <td>16048</td>\n",
       "      <td>4755</td>\n",
       "      <td>4050</td>\n",
       "      <td>None</td>\n",
       "      <td>2021-12-31</td>\n",
       "      <td>None</td>\n",
       "      <td>New construction of replacement school and upg...</td>\n",
       "      <td>The district is in the early phases of looking...</td>\n",
       "      <td>March 14, 2021 agenda says they are sharing a ...</td>\n",
       "      <td>watch list</td>\n",
       "      <td>...</td>\n",
       "      <td>None</td>\n",
       "      <td>2021-06-22T00:22:44.382Z</td>\n",
       "      <td>False</td>\n",
       "      <td>False</td>\n",
       "      <td></td>\n",
       "      <td>None</td>\n",
       "      <td>April 12, 2021: Thanks to the Energy Associati...</td>\n",
       "      <td>{'id': 4755, 'nces_number': '1910500', 'distri...</td>\n",
       "      <td>[{'id': 7, 'name': 'Replacement Building(s)', ...</td>\n",
       "      <td>[1]</td>\n",
       "    </tr>\n",
       "    <tr>\n",
       "      <th>1</th>\n",
       "      <td>11013</td>\n",
       "      <td>7695</td>\n",
       "      <td>17</td>\n",
       "      <td>None</td>\n",
       "      <td>2021-11-30</td>\n",
       "      <td>$65,000,000</td>\n",
       "      <td>New construction of a replacement East Element...</td>\n",
       "      <td>A $91 million bond failed in Nov. 2018. In May...</td>\n",
       "      <td>The board has postponed the Nov. 2020 election...</td>\n",
       "      <td>watch list</td>\n",
       "      <td>...</td>\n",
       "      <td>2019-05-26T12:24:39.702Z</td>\n",
       "      <td>2021-06-21T22:36:59.375Z</td>\n",
       "      <td>False</td>\n",
       "      <td>False</td>\n",
       "      <td>None</td>\n",
       "      <td>None</td>\n",
       "      <td>Board minutes: https://irondistrict.org/board-...</td>\n",
       "      <td>{'id': 7695, 'nces_number': '4900390', 'distri...</td>\n",
       "      <td>[{'id': 6, 'name': 'New Building(s)', 'parent_...</td>\n",
       "      <td>[1, 3]</td>\n",
       "    </tr>\n",
       "    <tr>\n",
       "      <th>2</th>\n",
       "      <td>13544</td>\n",
       "      <td>1687</td>\n",
       "      <td>2108</td>\n",
       "      <td>None</td>\n",
       "      <td>2021-12-31</td>\n",
       "      <td>None</td>\n",
       "      <td>New construction of a high school.</td>\n",
       "      <td></td>\n",
       "      <td>They had 3 failed bond elections for new eleme...</td>\n",
       "      <td>watch list</td>\n",
       "      <td>...</td>\n",
       "      <td>None</td>\n",
       "      <td>2021-06-21T21:24:03.005Z</td>\n",
       "      <td>False</td>\n",
       "      <td>False</td>\n",
       "      <td>None</td>\n",
       "      <td>None</td>\n",
       "      <td>None</td>\n",
       "      <td>{'id': 1687, 'nces_number': '3904363', 'distri...</td>\n",
       "      <td>[{'id': 6, 'name': 'New Building(s)', 'parent_...</td>\n",
       "      <td>[1]</td>\n",
       "    </tr>\n",
       "    <tr>\n",
       "      <th>3</th>\n",
       "      <td>14984</td>\n",
       "      <td>5116</td>\n",
       "      <td>2108</td>\n",
       "      <td>None</td>\n",
       "      <td>2021-12-31</td>\n",
       "      <td>None</td>\n",
       "      <td>New construction of an elementary school and a...</td>\n",
       "      <td>The new elementary school will be built at Ho...</td>\n",
       "      <td>No other press found. \"Bond\" on 7/21/20. Check...</td>\n",
       "      <td>watch list</td>\n",
       "      <td>...</td>\n",
       "      <td>None</td>\n",
       "      <td>2021-06-21T21:08:18.673Z</td>\n",
       "      <td>False</td>\n",
       "      <td>False</td>\n",
       "      <td></td>\n",
       "      <td>None</td>\n",
       "      <td></td>\n",
       "      <td>{'id': 5116, 'nces_number': '0101380', 'distri...</td>\n",
       "      <td>[{'id': 6, 'name': 'New Building(s)', 'parent_...</td>\n",
       "      <td>[1]</td>\n",
       "    </tr>\n",
       "    <tr>\n",
       "      <th>4</th>\n",
       "      <td>8000</td>\n",
       "      <td>12965</td>\n",
       "      <td>17</td>\n",
       "      <td>None</td>\n",
       "      <td>2018-11-06</td>\n",
       "      <td>$49,500,000</td>\n",
       "      <td>New construction of a two-story classroom buil...</td>\n",
       "      <td>Measure Z. CAW Architects. Construction on the...</td>\n",
       "      <td>check for additional bond sales\\nBond Maturity...</td>\n",
       "      <td>passed</td>\n",
       "      <td>...</td>\n",
       "      <td>2019-06-15T05:00:00.000Z</td>\n",
       "      <td>2021-06-21T19:33:57.292Z</td>\n",
       "      <td>False</td>\n",
       "      <td>False</td>\n",
       "      <td>Election 2018, Series 2019A: $10M.  Additional...</td>\n",
       "      <td>2045</td>\n",
       "      <td>55% to pass.  https://www.almanacnews.com/news...</td>\n",
       "      <td>{'id': 12965, 'nces_number': '0631470', 'distr...</td>\n",
       "      <td>[{'id': 6, 'name': 'New Building(s)', 'parent_...</td>\n",
       "      <td>[1, 2, 3, 4]</td>\n",
       "    </tr>\n",
       "  </tbody>\n",
       "</table>\n",
       "<p>5 rows × 29 columns</p>\n",
       "</div>"
      ],
      "text/plain": [
       "      id  district_id  user_id bond_identifier   vote_date       amount  \\\n",
       "0  16048         4755     4050            None  2021-12-31         None   \n",
       "1  11013         7695       17            None  2021-11-30  $65,000,000   \n",
       "2  13544         1687     2108            None  2021-12-31         None   \n",
       "3  14984         5116     2108            None  2021-12-31         None   \n",
       "4   8000        12965       17            None  2018-11-06  $49,500,000   \n",
       "\n",
       "                                            bond_use  \\\n",
       "0  New construction of replacement school and upg...   \n",
       "1  New construction of a replacement East Element...   \n",
       "2                 New construction of a high school.   \n",
       "3  New construction of an elementary school and a...   \n",
       "4  New construction of a two-story classroom buil...   \n",
       "\n",
       "                                           more_info  \\\n",
       "0  The district is in the early phases of looking...   \n",
       "1  A $91 million bond failed in Nov. 2018. In May...   \n",
       "2                                                      \n",
       "3   The new elementary school will be built at Ho...   \n",
       "4  Measure Z. CAW Architects. Construction on the...   \n",
       "\n",
       "                                         admin_notes      status  ...  \\\n",
       "0  March 14, 2021 agenda says they are sharing a ...  watch list  ...   \n",
       "1  The board has postponed the Nov. 2020 election...  watch list  ...   \n",
       "2  They had 3 failed bond elections for new eleme...  watch list  ...   \n",
       "3  No other press found. \"Bond\" on 7/21/20. Check...  watch list  ...   \n",
       "4  check for additional bond sales\\nBond Maturity...      passed  ...   \n",
       "\n",
       "                   reminder                  modified no_update  \\\n",
       "0                      None  2021-06-22T00:22:44.382Z     False   \n",
       "1  2019-05-26T12:24:39.702Z  2021-06-21T22:36:59.375Z     False   \n",
       "2                      None  2021-06-21T21:24:03.005Z     False   \n",
       "3                      None  2021-06-21T21:08:18.673Z     False   \n",
       "4  2019-06-15T05:00:00.000Z  2021-06-21T19:33:57.292Z     False   \n",
       "\n",
       "   user_submission                                              notes  \\\n",
       "0            False                                                      \n",
       "1            False                                               None   \n",
       "2            False                                               None   \n",
       "3            False                                                      \n",
       "4            False  Election 2018, Series 2019A: $10M.  Additional...   \n",
       "\n",
       "  maturity_year                                       verification  \\\n",
       "0          None  April 12, 2021: Thanks to the Energy Associati...   \n",
       "1          None  Board minutes: https://irondistrict.org/board-...   \n",
       "2          None                                               None   \n",
       "3          None                                                      \n",
       "4          2045  55% to pass.  https://www.almanacnews.com/news...   \n",
       "\n",
       "                                            district  \\\n",
       "0  {'id': 4755, 'nces_number': '1910500', 'distri...   \n",
       "1  {'id': 7695, 'nces_number': '4900390', 'distri...   \n",
       "2  {'id': 1687, 'nces_number': '3904363', 'distri...   \n",
       "3  {'id': 5116, 'nces_number': '0101380', 'distri...   \n",
       "4  {'id': 12965, 'nces_number': '0631470', 'distr...   \n",
       "\n",
       "                                          categories parent_categories  \n",
       "0  [{'id': 7, 'name': 'Replacement Building(s)', ...               [1]  \n",
       "1  [{'id': 6, 'name': 'New Building(s)', 'parent_...            [1, 3]  \n",
       "2  [{'id': 6, 'name': 'New Building(s)', 'parent_...               [1]  \n",
       "3  [{'id': 6, 'name': 'New Building(s)', 'parent_...               [1]  \n",
       "4  [{'id': 6, 'name': 'New Building(s)', 'parent_...      [1, 2, 3, 4]  \n",
       "\n",
       "[5 rows x 29 columns]"
      ]
     },
     "execution_count": 25,
     "metadata": {},
     "output_type": "execute_result"
    }
   ],
   "source": [
    "bonds_df.head()"
   ]
  },
  {
   "cell_type": "code",
   "execution_count": 26,
   "metadata": {},
   "outputs": [
    {
     "data": {
      "text/plain": [
       "Index(['id', 'district_id', 'user_id', 'bond_identifier', 'vote_date',\n",
       "       'amount', 'bond_use', 'more_info', 'admin_notes', 'status',\n",
       "       'source_url', 'date_added', 'date_updated', 'active', 'source_url2',\n",
       "       'source_url_text', 'source_url2_text', 'source_url3',\n",
       "       'source_url3_text', 'reminder', 'modified', 'no_update',\n",
       "       'user_submission', 'notes', 'maturity_year', 'verification', 'district',\n",
       "       'categories', 'parent_categories'],\n",
       "      dtype='object')"
      ]
     },
     "execution_count": 26,
     "metadata": {},
     "output_type": "execute_result"
    }
   ],
   "source": [
    "bonds_df.columns"
   ]
  },
  {
   "cell_type": "code",
   "execution_count": 27,
   "metadata": {},
   "outputs": [
    {
     "data": {
      "text/plain": [
       "{'id': 7695,\n",
       " 'nces_number': '4900390',\n",
       " 'district_number': '13',\n",
       " 'name': 'Iron District',\n",
       " 'address': '2077 W Royal Hunte Drive',\n",
       " 'city': 'Cedar City',\n",
       " 'state': 'UT',\n",
       " 'zip': '84720',\n",
       " 'phone': '(435)586-2804',\n",
       " 'number_students': 9078,\n",
       " 'number_teachers': 0,\n",
       " 'number_schools': 17,\n",
       " 'known_as': None,\n",
       " 'lat': '37.658920',\n",
       " 'long': '-113.087661',\n",
       " 'website': 'https://irondistrict.org',\n",
       " 'county_id': 2787,\n",
       " 'county': {'id': 2787, 'name': 'Iron County'},\n",
       " 'contacts': [{'name': 'Shannon Dulaney',\n",
       "   'phone': '435-586-2804',\n",
       "   'email': 'shannon.dulaney@ironmail.org',\n",
       "   'notes': 'Shannon Dulaney is retiring effective July 1, 2021. Lance Hatch will be the new superintendent.',\n",
       "   'notes_admin': 'Reminder set on Carbon County where Hatch is current supt.',\n",
       "   'positions': [{'name': 'Superintendent',\n",
       "     'contacts_positions': {'contact_id': 507,\n",
       "      'position_id': 1,\n",
       "      'position_sort': 1}}],\n",
       "   'districts_contacts': {'district_id': 7695,\n",
       "    'contact_id': 507,\n",
       "    'contact_sort': 1}},\n",
       "  {'name': 'Todd Hess',\n",
       "   'phone': '435-586-2804',\n",
       "   'email': 'todd.hess@ironmail.org',\n",
       "   'notes': None,\n",
       "   'notes_admin': None,\n",
       "   'positions': [{'name': 'Chief Financial Officer',\n",
       "     'contacts_positions': {'contact_id': 7654,\n",
       "      'position_id': 149,\n",
       "      'position_sort': 1}},\n",
       "    {'name': 'Business Administrator',\n",
       "     'contacts_positions': {'contact_id': 7654,\n",
       "      'position_id': 123,\n",
       "      'position_sort': 2}}],\n",
       "   'districts_contacts': {'district_id': 7695,\n",
       "    'contact_id': 7654,\n",
       "    'contact_sort': 2}}]}"
      ]
     },
     "execution_count": 27,
     "metadata": {},
     "output_type": "execute_result"
    }
   ],
   "source": [
    "bonds_df['district'][1]"
   ]
  },
  {
   "cell_type": "code",
   "execution_count": 28,
   "metadata": {},
   "outputs": [
    {
     "data": {
      "text/plain": [
       "dict"
      ]
     },
     "execution_count": 28,
     "metadata": {},
     "output_type": "execute_result"
    }
   ],
   "source": [
    "type(bonds_df['district'][1])"
   ]
  },
  {
   "cell_type": "code",
   "execution_count": 29,
   "metadata": {},
   "outputs": [
    {
     "data": {
      "text/plain": [
       "(2133, 29)"
      ]
     },
     "execution_count": 29,
     "metadata": {},
     "output_type": "execute_result"
    }
   ],
   "source": [
    "bonds_df.shape"
   ]
  }
 ],
 "metadata": {
  "kernelspec": {
   "display_name": "Python 3",
   "language": "python",
   "name": "python3"
  },
  "language_info": {
   "codemirror_mode": {
    "name": "ipython",
    "version": 3
   },
   "file_extension": ".py",
   "mimetype": "text/x-python",
   "name": "python",
   "nbconvert_exporter": "python",
   "pygments_lexer": "ipython3",
   "version": "3.8.3"
  }
 },
 "nbformat": 4,
 "nbformat_minor": 4
}
